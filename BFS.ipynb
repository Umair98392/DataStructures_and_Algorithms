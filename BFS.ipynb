{
 "cells": [
  {
   "cell_type": "code",
   "execution_count": null,
   "id": "0aee7263-60cd-43be-bac0-27db19accd2b",
   "metadata": {},
   "outputs": [],
   "source": [
    "def BFS(s, l):\n",
    "\n",
    "    level = [0]*(n+1)\n",
    "    visited = [False]*(n+1)\n",
    "    for i in range(n+1):\n",
    "        visited[i] = False\n",
    "        level[i] = 0\n",
    "    queue = deque()\n",
    "    \n",
    "    visited[s] = True\n",
    "    queue.append(s)\n",
    "    level[s] = 1\n",
    "    \n",
    "    while (len(queue) > 0):\n",
    "         s = queue.popleft()\n",
    "         \n",
    "         for i in g[s]:\n",
    "            if (not visited[i]):\n",
    "  \n",
    "                # Setting the level\n",
    "                # of each node with\n",
    "                # an increment in the\n",
    "                # level of parent node\n",
    "                level[i] = level[s] + 1\n",
    "                #print(level[i])\n",
    "                visited[i] = True\n",
    "                queue.append(i)\n",
    "    #print(level)\n",
    "    count = 0\n",
    "    for i in range(1,n+1):\n",
    "       \n",
    "        if (level[i] == l):\n",
    "            count += 1\n",
    "             \n",
    "    #return count\n",
    "    print(count)\n",
    "    \n",
    "    \n",
    "    \n",
    "    "
   ]
  },
  {
   "cell_type": "code",
   "execution_count": null,
   "id": "137bba9d-d889-47ff-91ce-77c912e2d97d",
   "metadata": {},
   "outputs": [],
   "source": [
    "from collections import deque\n",
    "\n",
    "\n",
    "n = int(input())\n",
    "g = [[0 for j in range(n+1)]for i in range(n+1)]\n",
    "#print(g)\n",
    "for i in range(0,n-1):\n",
    "    c, d = map(int,input().split())\n",
    "    g[c][d] = d\n",
    "    g[d][c] = c\n",
    "    #g[c].append(d)\n",
    "    #g[d].append(c)\n",
    "    \n",
    "##print(g)\n",
    "\n",
    "    \n",
    "    \n",
    "s = 1    \n",
    "x = int(input())    \n",
    "#print(BFS(s, x))\n",
    "BFS(s,x)"
   ]
  },
  {
   "cell_type": "code",
   "execution_count": null,
   "id": "8402595c-7ccf-45f7-9ff4-f58306b80b53",
   "metadata": {},
   "outputs": [],
   "source": []
  }
 ],
 "metadata": {
  "kernelspec": {
   "display_name": "Python 3 (ipykernel)",
   "language": "python",
   "name": "python3"
  },
  "language_info": {
   "codemirror_mode": {
    "name": "ipython",
    "version": 3
   },
   "file_extension": ".py",
   "mimetype": "text/x-python",
   "name": "python",
   "nbconvert_exporter": "python",
   "pygments_lexer": "ipython3",
   "version": "3.8.10"
  }
 },
 "nbformat": 4,
 "nbformat_minor": 5
}
