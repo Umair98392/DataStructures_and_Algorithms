{
 "cells": [
  {
   "cell_type": "code",
   "execution_count": null,
   "id": "5ae1703b-ecbf-4f42-b146-289df2ed18d9",
   "metadata": {},
   "outputs": [],
   "source": [
    "Average Time Complexity : O(N log N)"
   ]
  },
  {
   "cell_type": "code",
   "execution_count": 2,
   "id": "63155210-5dd5-45f6-934c-e92f4e16ceec",
   "metadata": {},
   "outputs": [
    {
     "name": "stdout",
     "output_type": "stream",
     "text": [
      "[1, 5, 7, 8, 9, 10]\n"
     ]
    }
   ],
   "source": [
    "# Python implementation QuickSort using\n",
    "# Lomuto's partition Scheme.\n",
    "import random\n",
    " \n",
    "'''\n",
    "The function which implements QuickSort.\n",
    "arr :- array to be sorted.\n",
    "start :- starting index of the array.\n",
    "stop :- ending index of the array.\n",
    "'''\n",
    "def quicksort(arr, start , stop):\n",
    "    if(start < stop):\n",
    "         \n",
    "        # pivotindex is the index where\n",
    "        # the pivot lies in the array\n",
    "        pivotindex = partitionrand(arr,start, stop)\n",
    "         \n",
    "        # At this stage the array is\n",
    "        # partially sorted around the pivot.\n",
    "        # Separately sorting the\n",
    "        # left half of the array and the\n",
    "        # right half of the array.\n",
    "        quicksort(arr , start , pivotindex-1)\n",
    "        quicksort(arr, pivotindex + 1, stop)\n",
    " \n",
    "# This function generates random pivot,\n",
    "# swaps the first element with the pivot\n",
    "# and calls the partition function.\n",
    "def partitionrand(arr , start, stop):\n",
    " \n",
    "    # Generating a random number between the\n",
    "    # starting index of the array and the\n",
    "    # ending index of the array.\n",
    "    randpivot = random.randrange(start, stop)\n",
    " \n",
    "    # Swapping the starting element of\n",
    "    # the array and the pivot\n",
    "    arr[start], arr[randpivot] = \\\n",
    "        arr[randpivot], arr[start]\n",
    "    return partition(arr, start, stop)\n",
    " \n",
    "'''\n",
    "This function takes the first element as pivot,\n",
    "places the pivot element at the correct position\n",
    "in the sorted array. All the elements are re-arranged\n",
    "according to the pivot, the elements smaller than the\n",
    "pivot is places on the left and the elements\n",
    "greater than the pivot is placed to the right of pivot.\n",
    "'''\n",
    "def partition(arr,start,stop):\n",
    "    pivot = start # pivot\n",
    "     \n",
    "    # a variable to memorize where the\n",
    "    i = start + 1\n",
    "     \n",
    "    # partition in the array starts from.\n",
    "    for j in range(start + 1, stop + 1):\n",
    "         \n",
    "        # if the current element is smaller\n",
    "        # or equal to pivot, shift it to the\n",
    "        # left side of the partition.\n",
    "        if arr[j] <= arr[pivot]:\n",
    "            arr[i] , arr[j] = arr[j] , arr[i]\n",
    "            i = i + 1\n",
    "    arr[pivot] , arr[i - 1] =\\\n",
    "            arr[i - 1] , arr[pivot]\n",
    "    pivot = i - 1\n",
    "    return (pivot)\n",
    " \n",
    "# Driver Code\n",
    "if __name__ == \"__main__\":\n",
    "    array = [10, 7, 8, 9, 1, 5]\n",
    "    quicksort(array, 0, len(array) - 1)\n",
    "    print(array)"
   ]
  },
  {
   "cell_type": "code",
   "execution_count": null,
   "id": "774b5523-5e3f-4a7d-9368-a101109eab7f",
   "metadata": {},
   "outputs": [],
   "source": []
  }
 ],
 "metadata": {
  "kernelspec": {
   "display_name": "Python 3 (ipykernel)",
   "language": "python",
   "name": "python3"
  },
  "language_info": {
   "codemirror_mode": {
    "name": "ipython",
    "version": 3
   },
   "file_extension": ".py",
   "mimetype": "text/x-python",
   "name": "python",
   "nbconvert_exporter": "python",
   "pygments_lexer": "ipython3",
   "version": "3.8.10"
  }
 },
 "nbformat": 4,
 "nbformat_minor": 5
}
