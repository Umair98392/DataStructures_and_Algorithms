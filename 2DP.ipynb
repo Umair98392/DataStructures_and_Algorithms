{
 "cells": [
  {
   "cell_type": "code",
   "execution_count": 28,
   "id": "9adc97c7-4d72-4c25-a5e1-22f4960d6cb0",
   "metadata": {},
   "outputs": [
    {
     "name": "stdin",
     "output_type": "stream",
     "text": [
      " 3 3\n",
      " 1 2 3\n",
      " 4 5 6\n",
      " 7 8 9\n"
     ]
    },
    {
     "name": "stdout",
     "output_type": "stream",
     "text": [
      "[[1, 2, 3], [4, 5, 6], [7, 8, 9]]\n"
     ]
    },
    {
     "name": "stdin",
     "output_type": "stream",
     "text": [
      " 2\n",
      " 3 3\n"
     ]
    },
    {
     "name": "stdout",
     "output_type": "stream",
     "text": [
      "45\n"
     ]
    },
    {
     "name": "stdin",
     "output_type": "stream",
     "text": [
      " 2 3\n"
     ]
    },
    {
     "name": "stdout",
     "output_type": "stream",
     "text": [
      "21\n"
     ]
    }
   ],
   "source": [
    "def sum(x,y):\n",
    "    if (x==0 and y==0):\n",
    "        return(dp[0][0])\n",
    "    elif (dp[x][y] != -1):\n",
    "        return(dp[x][y])\n",
    "    elif x==0:\n",
    "        dp[x][y] = sum(x,y-1) + matrix[x][y]\n",
    "    elif y==0:\n",
    "        dp[x][y] = sum(x-1,y+c-1) + matrix[x][y]\n",
    "    else:\n",
    "        dp[x][y] = sum(x,y-1) + matrix[x][y]\n",
    "    return(dp[x][y])\n",
    "#     for i in range(0,r):\n",
    "#         for j in range(0,c):\n",
    "#             if (i==0 and j==0):\n",
    "#                 None\n",
    "#             elif i==0:\n",
    "#                 dp[i][j] = sum(i,j-1) + matrix[i][j]\n",
    "#             elif j==0:\n",
    "#                 dp[i][j] = sum(i-1,j) + matrix[i][j]\n",
    "#     return(dp[x][y])\n",
    "    \n",
    "\n",
    "r,c = map(int,input().split())\n",
    "matrix = []\n",
    "dp = [ [ -1 for i in range(c) ] for j in range(r) ]\n",
    "for i in range(0,r):\n",
    "    a = []\n",
    "    a = input().split()\n",
    "    a = [int(x) for x in a]\n",
    "    matrix.append(a)\n",
    "print(matrix)\n",
    "dp[0][0] = matrix[0][0]\n",
    "q = int(input())\n",
    "for i in range(0,q):\n",
    "    e,f = map(int,input().split())\n",
    "    print(sum(e-1,f-1))\n"
   ]
  },
  {
   "cell_type": "code",
   "execution_count": null,
   "id": "5ee5b0e4-3ab3-4db1-baa0-3bcece9deafe",
   "metadata": {},
   "outputs": [],
   "source": [
    "def sum(x,y):\n",
    "    if (x==0 and y==0):\n",
    "        return(dp[0][0])\n",
    "    elif (dp[x][y] != -1):\n",
    "        return(dp[x][y])\n",
    "    elif y==0:\n",
    "        dp[x][y] = sum(x-1,y+c-1) + matrix[x][y]\n",
    "    else:\n",
    "        dp[x][y] = sum(x,y-1) + matrix[x][y]\n",
    "    return(dp[x][y])\n",
    "\n",
    "r,c = map(int,input().split())\n",
    "matrix = []\n",
    "dp = [ [ -1 for i in range(c) ] for j in range(r) ]\n",
    "for i in range(0,r):\n",
    "    a = []\n",
    "    a = input().split()\n",
    "    a = [int(x) for x in a]\n",
    "    matrix.append(a)\n",
    "dp[0][0] = matrix[0][0]\n",
    "q = int(input())\n",
    "for i in range(0,q):\n",
    "    e,f = map(int,input().split())\n",
    "    print(sum(e-1,f-1))\n"
   ]
  }
 ],
 "metadata": {
  "kernelspec": {
   "display_name": "Python 3 (ipykernel)",
   "language": "python",
   "name": "python3"
  },
  "language_info": {
   "codemirror_mode": {
    "name": "ipython",
    "version": 3
   },
   "file_extension": ".py",
   "mimetype": "text/x-python",
   "name": "python",
   "nbconvert_exporter": "python",
   "pygments_lexer": "ipython3",
   "version": "3.8.10"
  }
 },
 "nbformat": 4,
 "nbformat_minor": 5
}
