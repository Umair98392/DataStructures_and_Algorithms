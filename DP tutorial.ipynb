{
 "cells": [
  {
   "cell_type": "code",
   "execution_count": 14,
   "id": "8faeaa26-d6a1-4055-86b7-d3031f70f87a",
   "metadata": {},
   "outputs": [
    {
     "name": "stdin",
     "output_type": "stream",
     "text": [
      " 5\n",
      " 1\n",
      " 2\n",
      " 3\n",
      " 4\n",
      " 5\n"
     ]
    },
    {
     "name": "stdout",
     "output_type": "stream",
     "text": [
      "5\n",
      "1\n",
      "2\n",
      "6\n",
      "24\n",
      "120\n"
     ]
    }
   ],
   "source": [
    "def factorial(m):\n",
    "    \n",
    "    for i in range(3,m+1):\n",
    "        fact.append(i*fact[i-1])\n",
    "\n",
    "\n",
    "\n",
    "t = int(input())\n",
    "a =[]\n",
    "b = []\n",
    "for i in range(t):\n",
    "    ele = int(input())\n",
    "    a.append(ele)\n",
    "m = max(a)\n",
    "#print(m)\n",
    "fact = [0,1,2]\n",
    "factorial(m)\n",
    "for i in a:\n",
    "    print(fact[i])"
   ]
  },
  {
   "cell_type": "code",
   "execution_count": null,
   "id": "bc690945-430d-4455-be53-ce7318a139a2",
   "metadata": {},
   "outputs": [],
   "source": [
    "def factorial(m):\n",
    "    if m <=1:\n",
    "        fact[0] = 1\n",
    "        fact[1] = 1\n",
    "        return (fact[m])\n",
    "    elif (fact[m]!= -1):\n",
    "        return (fact[m])\n",
    "    fact[m]=((i*factorial(m-1))%1000000007)\n",
    "    return (fact[m])\n",
    "\n",
    "t = int(input())\n",
    "a =[]\n",
    "for i in range(t):\n",
    "    ele = int(input())\n",
    "    a.append(ele)\n",
    "fact = [-1]*(t+1)\n",
    "for i in a:\n",
    "    #print(i)\n",
    "    print(factorial(i))\n",
    "    #print(fact)"
   ]
  }
 ],
 "metadata": {
  "kernelspec": {
   "display_name": "Python 3 (ipykernel)",
   "language": "python",
   "name": "python3"
  },
  "language_info": {
   "codemirror_mode": {
    "name": "ipython",
    "version": 3
   },
   "file_extension": ".py",
   "mimetype": "text/x-python",
   "name": "python",
   "nbconvert_exporter": "python",
   "pygments_lexer": "ipython3",
   "version": "3.8.10"
  }
 },
 "nbformat": 4,
 "nbformat_minor": 5
}
