{
 "cells": [
  {
   "cell_type": "code",
   "execution_count": null,
   "id": "b54a818f-6ded-4324-8a68-14e678022a8c",
   "metadata": {},
   "outputs": [],
   "source": [
    "Time complexity : O(n^2)"
   ]
  },
  {
   "cell_type": "code",
   "execution_count": 1,
   "id": "b93b4144-0794-4261-93d1-a1383528e588",
   "metadata": {},
   "outputs": [
    {
     "name": "stdout",
     "output_type": "stream",
     "text": [
      "22\n",
      "4\n",
      "42\n"
     ]
    }
   ],
   "source": [
    "# Python3 program to find out maximum\n",
    "# value from a given sequence of coins\n",
    " \n",
    "# Returns optimal value possible that\n",
    "# a player can collect from an array\n",
    "# of coins of size n. Note than n\n",
    "# must be even\n",
    "def optimalStrategyOfGame(arr, n):\n",
    "     \n",
    "    # Create a table to store\n",
    "    # solutions of subproblems\n",
    "    table = [[0 for i in range(n)]\n",
    "                for i in range(n)]\n",
    " \n",
    "    # Fill table using above recursive\n",
    "    # formula. Note that the table is\n",
    "    # filled in diagonal fashion\n",
    "    # (similar to http://goo.gl / PQqoS),\n",
    "    # from diagonal elements to\n",
    "    # table[0][n-1] which is the result.\n",
    "    for gap in range(n):\n",
    "        for j in range(gap, n):\n",
    "            i = j - gap\n",
    "             \n",
    "            # Here x is value of F(i + 2, j),\n",
    "            # y is F(i + 1, j-1) and z is\n",
    "            # F(i, j-2) in above recursive\n",
    "            # formula\n",
    "            x = 0\n",
    "            if((i + 2) <= j):\n",
    "                x = table[i + 2][j]\n",
    "            y = 0\n",
    "            if((i + 1) <= (j - 1)):\n",
    "                y = table[i + 1][j - 1]\n",
    "            z = 0\n",
    "            if(i <= (j - 2)):\n",
    "                z = table[i][j - 2]\n",
    "            table[i][j] = max(arr[i] + min(x, y),\n",
    "                              arr[j] + min(y, z))\n",
    "    return table[0][n - 1]\n",
    " \n",
    "# Driver Code\n",
    "arr1 = [ 8, 15, 3, 7 ]\n",
    "n = len(arr1)\n",
    "print(optimalStrategyOfGame(arr1, n))\n",
    " \n",
    "arr2 = [ 2, 2, 2, 2 ]\n",
    "n = len(arr2)\n",
    "print(optimalStrategyOfGame(arr2, n))\n",
    " \n",
    "arr3 = [ 20, 30, 2, 2, 2, 10]\n",
    "n = len(arr3)\n",
    "print(optimalStrategyOfGame(arr3, n))"
   ]
  },
  {
   "cell_type": "code",
   "execution_count": null,
   "id": "0fb2dd32-f558-4c31-a8cb-19d6c3b4ac68",
   "metadata": {},
   "outputs": [],
   "source": []
  }
 ],
 "metadata": {
  "kernelspec": {
   "display_name": "Python 3 (ipykernel)",
   "language": "python",
   "name": "python3"
  },
  "language_info": {
   "codemirror_mode": {
    "name": "ipython",
    "version": 3
   },
   "file_extension": ".py",
   "mimetype": "text/x-python",
   "name": "python",
   "nbconvert_exporter": "python",
   "pygments_lexer": "ipython3",
   "version": "3.8.10"
  }
 },
 "nbformat": 4,
 "nbformat_minor": 5
}
