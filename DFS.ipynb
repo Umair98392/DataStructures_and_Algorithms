{
 "cells": [
  {
   "cell_type": "code",
   "execution_count": null,
   "id": "f3cdcc6e-4e4c-48d8-a3d4-ec67a93d6748",
   "metadata": {},
   "outputs": [],
   "source": [
    "def DFS(x):\n",
    "    stack = []\n",
    "    visited = [False]*(n+1)\n",
    "    s = x\n",
    "    visited[s] = True\n",
    "    stack.append(s)\n",
    "    while (len(stack) > 0):\n",
    "        s = stack.pop()\n",
    "        for i in g[s]:\n",
    "            if (not visited[i]):\n",
    "                visited[i] = True\n",
    "                stack.append(i)\n",
    "    count = 0\n",
    "    for i in range(1,n+1):\n",
    "        if (visited[i] == False):\n",
    "            count += 1\n",
    "    print(count)"
   ]
  },
  {
   "cell_type": "code",
   "execution_count": null,
   "id": "9cd3291d-37a6-4ebc-aea2-6af96955076a",
   "metadata": {},
   "outputs": [],
   "source": [
    "n,m =map(int,input().split())\n",
    "g = [[0 for j in range(n+1)]for i in range(n+1)]\n",
    "#print(g)\n",
    "for i in range(0,m):\n",
    "    c, d = map(int,input().split())\n",
    "    g[c][d] = d\n",
    "    g[d][c] = c\n",
    "    #g[c].append(d)\n",
    "    #g[d].append(c)\n",
    "    \n",
    "##print(g)\n",
    "x = int(input())\n",
    "DFS(x)"
   ]
  },
  {
   "cell_type": "code",
   "execution_count": null,
   "id": "5d7cbe1a-dfed-4c05-9794-629ccb84f973",
   "metadata": {},
   "outputs": [],
   "source": []
  }
 ],
 "metadata": {
  "kernelspec": {
   "display_name": "Python 3 (ipykernel)",
   "language": "python",
   "name": "python3"
  },
  "language_info": {
   "codemirror_mode": {
    "name": "ipython",
    "version": 3
   },
   "file_extension": ".py",
   "mimetype": "text/x-python",
   "name": "python",
   "nbconvert_exporter": "python",
   "pygments_lexer": "ipython3",
   "version": "3.8.10"
  }
 },
 "nbformat": 4,
 "nbformat_minor": 5
}
