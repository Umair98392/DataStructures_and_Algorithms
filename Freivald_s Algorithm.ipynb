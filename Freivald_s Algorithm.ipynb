{
 "cells": [
  {
   "cell_type": "code",
   "execution_count": 1,
   "id": "012fc258-f435-42db-9c58-010671c3c569",
   "metadata": {},
   "outputs": [
    {
     "ename": "NameError",
     "evalue": "name 'O' is not defined",
     "output_type": "error",
     "traceback": [
      "\u001b[0;31m---------------------------------------------------------------------------\u001b[0m",
      "\u001b[0;31mNameError\u001b[0m                                 Traceback (most recent call last)",
      "\u001b[0;32m<timed exec>\u001b[0m in \u001b[0;36m<module>\u001b[0;34m\u001b[0m\n",
      "\u001b[0;31mNameError\u001b[0m: name 'O' is not defined"
     ]
    }
   ],
   "source": [
    "time complexity: O(n^2)"
   ]
  },
  {
   "cell_type": "code",
   "execution_count": 25,
   "id": "b041c090-800f-4197-9ce1-42fa846bc5ad",
   "metadata": {},
   "outputs": [
    {
     "name": "stdout",
     "output_type": "stream",
     "text": [
      "Yes\n"
     ]
    }
   ],
   "source": [
    "# Python3 code to implement Freivald’s Algorithm\n",
    "import random\n",
    "N = 2\n",
    " \n",
    "# Function to check if ABx = Cx\n",
    "def freivald(a, b, c) :\n",
    "     \n",
    "    # Generate a random vector\n",
    "    r = [0] * N\n",
    "     \n",
    "    for i in range(0, N) :\n",
    "        r[i] = (int)(random.randrange(509090009) % 2)\n",
    " \n",
    "    # Now comput B*r for evaluating\n",
    "    # expression A * (B*r) - (C*r)\n",
    "    br = [0] * N\n",
    "     \n",
    "    for i in range(0, N) :\n",
    "        for j in range(0, N) :\n",
    "            br[i] = br[i] + b[i][j] * r[j]\n",
    " \n",
    "    # Now comput C*r for evaluating\n",
    "    # expression A * (B*r) - (C*r)\n",
    "    cr = [0] * N\n",
    "    for i in range(0, N) :\n",
    "        for j in range(0, N) :\n",
    "            cr[i] = cr[i] + c[i][j] * r[j]\n",
    " \n",
    "    # Now comput A* (B*r) for evaluating\n",
    "    # expression A * (B*r) - (C*r)\n",
    "    axbr = [0] * N\n",
    "    for i in range(0, N) :\n",
    "        for j in range(0, N) :\n",
    "            axbr[i] = axbr[i] + a[i][j] * br[j]\n",
    " \n",
    "    # Finally check if value of expression\n",
    "    # A * (B*r) - (C*r) is 0 or not\n",
    "    for i in range(0, N) :\n",
    "        if (axbr[i] - cr[i] != 0) :\n",
    "            return False\n",
    "             \n",
    "    return True\n",
    " \n",
    "# Runs k iterations Freivald. The value\n",
    "# of k determines accuracy. Higher value\n",
    "# means higher accuracy.\n",
    "def isProduct(a, b, c, k) :\n",
    "     \n",
    "    for i in range(0, k) :\n",
    "        if (freivald(a, b, c) == False) :\n",
    "            return False\n",
    "    return True\n",
    " \n",
    "# Driver code\n",
    "a = [ [ 1, 1 ], [ 1, 1 ] ]\n",
    "b = [ [ 1, 1 ], [ 1, 1 ] ]\n",
    "c = [ [ 2, 2 ], [ 2, 2 ] ]\n",
    "k = 2\n",
    " \n",
    "if (isProduct(a, b, c, k)) :\n",
    "    print(\"Yes\")\n",
    "else :\n",
    "    print(\"No\")"
   ]
  },
  {
   "cell_type": "code",
   "execution_count": 51,
   "id": "f26dc353-c577-4912-b2f0-c5ba6c324400",
   "metadata": {},
   "outputs": [
    {
     "name": "stdout",
     "output_type": "stream",
     "text": [
      "1 0\n",
      "Yes\n"
     ]
    }
   ],
   "source": [
    "# Python3 code to implement Freivald’s Algorithm\n",
    "import random\n",
    "N = 2\n",
    " \n",
    "# Function to check if ABx = Cx\n",
    "def freivald(a, b, c) :\n",
    "     \n",
    "    # Generate a random vector\n",
    "    r = [0] * N\n",
    "     \n",
    "    for i in range(0, N) :\n",
    "        r[i] = (int)(random.randrange(2))\n",
    "    print(*r)\n",
    " \n",
    "    # Now comput B*r for evaluating\n",
    "    # expression A * (B*r) - (C*r)\n",
    "    br = [0] * N\n",
    "     \n",
    "    for i in range(0, N) :\n",
    "        for j in range(0, N) :\n",
    "            br[i] = br[i] + b[i][j] * r[j]\n",
    " \n",
    "    # Now comput C*r for evaluating\n",
    "    # expression A * (B*r) - (C*r)\n",
    "    cr = [0] * N\n",
    "    for i in range(0, N) :\n",
    "        for j in range(0, N) :\n",
    "            cr[i] = cr[i] + c[i][j] * r[j]\n",
    " \n",
    "    # Now comput A* (B*r) for evaluating\n",
    "    # expression A * (B*r) - (C*r)\n",
    "    axbr = [0] * N\n",
    "    for i in range(0, N) :\n",
    "        for j in range(0, N) :\n",
    "            axbr[i] = axbr[i] + a[i][j] * br[j]\n",
    " \n",
    "    # Finally check if value of expression\n",
    "    # A * (B*r) - (C*r) is 0 or not\n",
    "    for i in range(0, N) :\n",
    "        if (axbr[i] - cr[i] != 0) :\n",
    "            return False\n",
    "             \n",
    "    return True\n",
    " \n",
    "\n",
    "def isProduct(a, b, c) :\n",
    "    if (freivald(a, b, c) == False) :\n",
    "        return False\n",
    "    return True\n",
    " \n",
    "# Driver code\n",
    "a = [ [ 1, 1 ], [ 1, 1 ] ]\n",
    "b = [ [ 1, 1 ], [ 1, 1 ] ]\n",
    "c = [ [ 2, 2 ], [ 2, 2 ] ]\n",
    " \n",
    "if (isProduct(a, b, c, )) :\n",
    "    print(\"Yes\")\n",
    "else :\n",
    "    print(\"No\")"
   ]
  },
  {
   "cell_type": "code",
   "execution_count": null,
   "id": "3ee1e328-0cc7-4a49-ad98-6a3376300b23",
   "metadata": {},
   "outputs": [],
   "source": []
  },
  {
   "cell_type": "code",
   "execution_count": null,
   "id": "406740d0-76ed-441f-8488-6c4e1c8010fb",
   "metadata": {},
   "outputs": [],
   "source": []
  }
 ],
 "metadata": {
  "kernelspec": {
   "display_name": "Python 3 (ipykernel)",
   "language": "python",
   "name": "python3"
  },
  "language_info": {
   "codemirror_mode": {
    "name": "ipython",
    "version": 3
   },
   "file_extension": ".py",
   "mimetype": "text/x-python",
   "name": "python",
   "nbconvert_exporter": "python",
   "pygments_lexer": "ipython3",
   "version": "3.8.10"
  }
 },
 "nbformat": 4,
 "nbformat_minor": 5
}
