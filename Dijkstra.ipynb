{
 "cells": [
  {
   "cell_type": "code",
   "execution_count": 2,
   "id": "dacc66eb-8902-4c98-a956-8f5b1582667a",
   "metadata": {},
   "outputs": [
    {
     "name": "stdin",
     "output_type": "stream",
     "text": [
      " 5 5\n",
      " 1 2 5\n",
      " 1 3 2\n",
      " 3 4 1\n",
      " 1 4 6\n",
      " 3 5 5\n"
     ]
    },
    {
     "name": "stdout",
     "output_type": "stream",
     "text": [
      "5 2 3 7\n"
     ]
    }
   ],
   "source": [
    "def Dijkstra(s):\n",
    "\n",
    "    dist = [2000]*(n)\n",
    "    dist[0] = 0\n",
    "    visited = [False]*(n)\n",
    "    for i in range(n):\n",
    "        visited[i] = False\n",
    "    queue = {}\n",
    "    queue[0] = 0\n",
    "    for i in range(1,n):\n",
    "        queue[i] = 2000\n",
    "    \n",
    "    while (len(queue) > 0):\n",
    "        smallestKey = min(queue, key=queue.get)\n",
    "        del queue[smallestKey]\n",
    "        \n",
    "        if (not visited[smallestKey]):\n",
    "            visited[smallestKey] = True\n",
    "            \n",
    "            for v in g[smallestKey]:\n",
    "                if (g[smallestKey][v] != 0):\n",
    "                    if dist[v] > dist[smallestKey] + vertices[smallestKey][v]:\n",
    "                        dist[v] = dist[smallestKey] + vertices[smallestKey][v]\n",
    "                        queue[v] = dist[v]\n",
    "                        \n",
    "\n",
    "    print(*dist[1:])\n",
    "    \n",
    "\n",
    "n, m = map(int,input().split())\n",
    "g = [[0 for j in range(n)]for i in range(n)]\n",
    "vertices = [[0 for j in range(n)]for i in range(n)]\n",
    "for i in range(0,m):\n",
    "    c, d , w= map(int,input().split())\n",
    "    g[c-1][d-1] = d-1\n",
    "    vertices[c-1][d-1] = w\n",
    "    \n",
    "Dijkstra(0)"
   ]
  }
 ],
 "metadata": {
  "kernelspec": {
   "display_name": "Python 3 (ipykernel)",
   "language": "python",
   "name": "python3"
  },
  "language_info": {
   "codemirror_mode": {
    "name": "ipython",
    "version": 3
   },
   "file_extension": ".py",
   "mimetype": "text/x-python",
   "name": "python",
   "nbconvert_exporter": "python",
   "pygments_lexer": "ipython3",
   "version": "3.8.10"
  }
 },
 "nbformat": 4,
 "nbformat_minor": 5
}
