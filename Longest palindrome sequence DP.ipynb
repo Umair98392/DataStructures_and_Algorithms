{
 "cells": [
  {
   "cell_type": "code",
   "execution_count": null,
   "id": "daccf16d-1b30-4a51-8e52-41b66bc1e98c",
   "metadata": {},
   "outputs": [],
   "source": [
    "Time complexity : O(n^2)"
   ]
  },
  {
   "cell_type": "code",
   "execution_count": 21,
   "id": "fee9736c-4330-4c92-86d7-308cba4f53b3",
   "metadata": {},
   "outputs": [
    {
     "name": "stdout",
     "output_type": "stream",
     "text": [
      "The length of the longest palindromic subsequence is 5\n"
     ]
    }
   ],
   "source": [
    "# Function to find the length of the longest palindromic subsequence\n",
    "# of substring `X[i…j]`\n",
    "def findLongestPalindrome(X, i, j, lookup):\n",
    " \n",
    "    # Base condition\n",
    "    if i > j:\n",
    "        return 0\n",
    " \n",
    "    # If the string `X` has only one character, it is a palindrome\n",
    "    if i == j:\n",
    "        return 1\n",
    " \n",
    "    # construct a unique key from dynamic elements of the input\n",
    "    key = (i, j)\n",
    " \n",
    "    # If the subproblem is seen for the first time, solve it and\n",
    "    # store its result in a dictionary\n",
    "    if key not in lookup:\n",
    " \n",
    "        ''' If the last character of the string is the same as the first character,\n",
    "            include the first and last characters in palindrome and recur\n",
    "            for the remaining substring X[i+1, j-1] '''\n",
    " \n",
    "        if X[i] == X[j]:\n",
    "            lookup[key] = findLongestPalindrome(X, i + 1, j - 1, lookup) + 2\n",
    "        else:\n",
    "            ''' If the last character of the string is different from the\n",
    "                first character\n",
    " \n",
    "                1. Remove the last character recur for the remaining substring\n",
    "                   `X[i, j-1]`\n",
    "                2. Remove the first character recur for the remaining substring\n",
    "                   `X[i+1, j]`\n",
    "                3. Return the maximum of the two values '''\n",
    " \n",
    "            lookup[key] = max(findLongestPalindrome(X, i, j - 1, lookup),\n",
    "                            findLongestPalindrome(X, i + 1, j, lookup))\n",
    " \n",
    "    # Return the subproblem solution from the dictionary\n",
    "    return lookup[key]\n",
    " \n",
    " \n",
    "if __name__ == '__main__':\n",
    " \n",
    "    X = 'ABBDCACB'\n",
    " \n",
    "    # create a dictionary to store solutions to subproblems\n",
    "    lookup = {}\n",
    " \n",
    "    print('The length of the longest palindromic subsequence is',\n",
    "        findLongestPalindrome(X, 0, len(X) - 1, lookup))"
   ]
  },
  {
   "cell_type": "code",
   "execution_count": null,
   "id": "1bbdfd5c-c526-4e2e-8f2d-d1c0890e050e",
   "metadata": {},
   "outputs": [],
   "source": [
    "Worst case complexity : exponential or O(2^n)"
   ]
  },
  {
   "cell_type": "code",
   "execution_count": null,
   "id": "e78b039a-2d35-497b-b6a0-d7da993b6d9b",
   "metadata": {},
   "outputs": [],
   "source": [
    "# Python 3 program of above approach\n",
    "\n",
    "# A utility function to get max\n",
    "# of two egers\n",
    "def max(x, y):\n",
    "\tif(x > y):\n",
    "\t\treturn x\n",
    "\treturn y\n",
    "\t\n",
    "# Returns the length of the longest\n",
    "# palindromic subsequence in seq\n",
    "def lps(seq, i, j):\n",
    "\t\n",
    "\t# Base Case 1: If there is\n",
    "\t# only 1 character\n",
    "\tif (i == j):\n",
    "\t\treturn 1\n",
    "\n",
    "\t# Base Case 2: If there are only 2\n",
    "\t# characters and both are same\n",
    "\tif (seq[i] == seq[j] and i + 1 == j):\n",
    "\t\treturn 2\n",
    "\t\n",
    "\t# If the first and last characters match\n",
    "\tif (seq[i] == seq[j]):\n",
    "\t\treturn lps(seq, i + 1, j - 1) + 2\n",
    "\n",
    "\t# If the first and last characters\n",
    "\t# do not match\n",
    "\treturn max(lps(seq, i, j - 1),\n",
    "\t\t\tlps(seq, i + 1, j))\n",
    "\n",
    "# Driver Code\n",
    "if __name__ == '__main__':\n",
    "\tseq = \"GEEKS FOR GEEKS\"\n",
    "\tn = len(seq)\n",
    "\tprint(\"The length of the LPS is\",\n",
    "\t\t\t\tlps(seq, 0, n - 1))\n",
    "\t\n",
    "# This code contributed by Rajput-Ji\n"
   ]
  }
 ],
 "metadata": {
  "kernelspec": {
   "display_name": "Python 3 (ipykernel)",
   "language": "python",
   "name": "python3"
  },
  "language_info": {
   "codemirror_mode": {
    "name": "ipython",
    "version": 3
   },
   "file_extension": ".py",
   "mimetype": "text/x-python",
   "name": "python",
   "nbconvert_exporter": "python",
   "pygments_lexer": "ipython3",
   "version": "3.8.10"
  }
 },
 "nbformat": 4,
 "nbformat_minor": 5
}
